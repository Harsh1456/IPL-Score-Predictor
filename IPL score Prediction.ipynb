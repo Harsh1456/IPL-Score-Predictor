{
 "cells": [
  {
   "cell_type": "code",
   "execution_count": 2,
   "metadata": {},
   "outputs": [
    {
     "name": "stdout",
     "output_type": "stream",
     "text": [
      "WARNING:tensorflow:From c:\\Users\\LENOVO\\AppData\\Local\\Programs\\Python\\Python311\\Lib\\site-packages\\keras\\src\\losses.py:2976: The name tf.losses.sparse_softmax_cross_entropy is deprecated. Please use tf.compat.v1.losses.sparse_softmax_cross_entropy instead.\n",
      "\n"
     ]
    }
   ],
   "source": [
    "import pandas as pd\n",
    "import numpy as np\n",
    "import matplotlib.pyplot as plt\n",
    "import seaborn as sns\n",
    "from sklearn import preprocessing\n",
    "import keras \n",
    "import tensorflow as tf"
   ]
  },
  {
   "cell_type": "code",
   "execution_count": 3,
   "metadata": {},
   "outputs": [
    {
     "data": {
      "text/html": [
       "<div>\n",
       "<style scoped>\n",
       "    .dataframe tbody tr th:only-of-type {\n",
       "        vertical-align: middle;\n",
       "    }\n",
       "\n",
       "    .dataframe tbody tr th {\n",
       "        vertical-align: top;\n",
       "    }\n",
       "\n",
       "    .dataframe thead th {\n",
       "        text-align: right;\n",
       "    }\n",
       "</style>\n",
       "<table border=\"1\" class=\"dataframe\">\n",
       "  <thead>\n",
       "    <tr style=\"text-align: right;\">\n",
       "      <th></th>\n",
       "      <th>mid</th>\n",
       "      <th>date</th>\n",
       "      <th>venue</th>\n",
       "      <th>bat_team</th>\n",
       "      <th>bowl_team</th>\n",
       "      <th>batsman</th>\n",
       "      <th>bowler</th>\n",
       "      <th>runs</th>\n",
       "      <th>wickets</th>\n",
       "      <th>overs</th>\n",
       "      <th>runs_last_5</th>\n",
       "      <th>wickets_last_5</th>\n",
       "      <th>striker</th>\n",
       "      <th>non-striker</th>\n",
       "      <th>total</th>\n",
       "    </tr>\n",
       "  </thead>\n",
       "  <tbody>\n",
       "    <tr>\n",
       "      <th>0</th>\n",
       "      <td>1</td>\n",
       "      <td>2008-04-18</td>\n",
       "      <td>M Chinnaswamy Stadium</td>\n",
       "      <td>Kolkata Knight Riders</td>\n",
       "      <td>Royal Challengers Bangalore</td>\n",
       "      <td>SC Ganguly</td>\n",
       "      <td>P Kumar</td>\n",
       "      <td>1</td>\n",
       "      <td>0</td>\n",
       "      <td>0.1</td>\n",
       "      <td>1</td>\n",
       "      <td>0</td>\n",
       "      <td>0</td>\n",
       "      <td>0</td>\n",
       "      <td>222</td>\n",
       "    </tr>\n",
       "    <tr>\n",
       "      <th>1</th>\n",
       "      <td>1</td>\n",
       "      <td>2008-04-18</td>\n",
       "      <td>M Chinnaswamy Stadium</td>\n",
       "      <td>Kolkata Knight Riders</td>\n",
       "      <td>Royal Challengers Bangalore</td>\n",
       "      <td>BB McCullum</td>\n",
       "      <td>P Kumar</td>\n",
       "      <td>1</td>\n",
       "      <td>0</td>\n",
       "      <td>0.2</td>\n",
       "      <td>1</td>\n",
       "      <td>0</td>\n",
       "      <td>0</td>\n",
       "      <td>0</td>\n",
       "      <td>222</td>\n",
       "    </tr>\n",
       "    <tr>\n",
       "      <th>2</th>\n",
       "      <td>1</td>\n",
       "      <td>2008-04-18</td>\n",
       "      <td>M Chinnaswamy Stadium</td>\n",
       "      <td>Kolkata Knight Riders</td>\n",
       "      <td>Royal Challengers Bangalore</td>\n",
       "      <td>BB McCullum</td>\n",
       "      <td>P Kumar</td>\n",
       "      <td>2</td>\n",
       "      <td>0</td>\n",
       "      <td>0.2</td>\n",
       "      <td>2</td>\n",
       "      <td>0</td>\n",
       "      <td>0</td>\n",
       "      <td>0</td>\n",
       "      <td>222</td>\n",
       "    </tr>\n",
       "    <tr>\n",
       "      <th>3</th>\n",
       "      <td>1</td>\n",
       "      <td>2008-04-18</td>\n",
       "      <td>M Chinnaswamy Stadium</td>\n",
       "      <td>Kolkata Knight Riders</td>\n",
       "      <td>Royal Challengers Bangalore</td>\n",
       "      <td>BB McCullum</td>\n",
       "      <td>P Kumar</td>\n",
       "      <td>2</td>\n",
       "      <td>0</td>\n",
       "      <td>0.3</td>\n",
       "      <td>2</td>\n",
       "      <td>0</td>\n",
       "      <td>0</td>\n",
       "      <td>0</td>\n",
       "      <td>222</td>\n",
       "    </tr>\n",
       "    <tr>\n",
       "      <th>4</th>\n",
       "      <td>1</td>\n",
       "      <td>2008-04-18</td>\n",
       "      <td>M Chinnaswamy Stadium</td>\n",
       "      <td>Kolkata Knight Riders</td>\n",
       "      <td>Royal Challengers Bangalore</td>\n",
       "      <td>BB McCullum</td>\n",
       "      <td>P Kumar</td>\n",
       "      <td>2</td>\n",
       "      <td>0</td>\n",
       "      <td>0.4</td>\n",
       "      <td>2</td>\n",
       "      <td>0</td>\n",
       "      <td>0</td>\n",
       "      <td>0</td>\n",
       "      <td>222</td>\n",
       "    </tr>\n",
       "  </tbody>\n",
       "</table>\n",
       "</div>"
      ],
      "text/plain": [
       "   mid        date                  venue               bat_team  \\\n",
       "0    1  2008-04-18  M Chinnaswamy Stadium  Kolkata Knight Riders   \n",
       "1    1  2008-04-18  M Chinnaswamy Stadium  Kolkata Knight Riders   \n",
       "2    1  2008-04-18  M Chinnaswamy Stadium  Kolkata Knight Riders   \n",
       "3    1  2008-04-18  M Chinnaswamy Stadium  Kolkata Knight Riders   \n",
       "4    1  2008-04-18  M Chinnaswamy Stadium  Kolkata Knight Riders   \n",
       "\n",
       "                     bowl_team      batsman   bowler  runs  wickets  overs  \\\n",
       "0  Royal Challengers Bangalore   SC Ganguly  P Kumar     1        0    0.1   \n",
       "1  Royal Challengers Bangalore  BB McCullum  P Kumar     1        0    0.2   \n",
       "2  Royal Challengers Bangalore  BB McCullum  P Kumar     2        0    0.2   \n",
       "3  Royal Challengers Bangalore  BB McCullum  P Kumar     2        0    0.3   \n",
       "4  Royal Challengers Bangalore  BB McCullum  P Kumar     2        0    0.4   \n",
       "\n",
       "   runs_last_5  wickets_last_5  striker  non-striker  total  \n",
       "0            1               0        0            0    222  \n",
       "1            1               0        0            0    222  \n",
       "2            2               0        0            0    222  \n",
       "3            2               0        0            0    222  \n",
       "4            2               0        0            0    222  "
      ]
     },
     "execution_count": 3,
     "metadata": {},
     "output_type": "execute_result"
    }
   ],
   "source": [
    "ipl = pd.read_csv(\"D:\\Study\\Practical\\CodeUnnati\\Project\\ipl_data.csv\")\n",
    "ipl.head()"
   ]
  },
  {
   "cell_type": "markdown",
   "metadata": {},
   "source": [
    "Data Pre-Processing"
   ]
  },
  {
   "cell_type": "code",
   "execution_count": 4,
   "metadata": {},
   "outputs": [],
   "source": [
    "df = ipl.drop(['date', 'runs', 'wickets', 'overs', 'runs_last_5', 'wickets_last_5','mid', 'striker', 'non-striker'], axis =1)\n"
   ]
  },
  {
   "cell_type": "code",
   "execution_count": 5,
   "metadata": {},
   "outputs": [],
   "source": [
    "X = df.drop(['total'], axis =1)\n",
    "y = df['total']"
   ]
  },
  {
   "cell_type": "markdown",
   "metadata": {},
   "source": [
    "Data Encoding"
   ]
  },
  {
   "cell_type": "code",
   "execution_count": 6,
   "metadata": {},
   "outputs": [],
   "source": [
    "from sklearn.preprocessing import LabelEncoder\n",
    "\n",
    "# Create a LabelEncoder object for each categorical feature\n",
    "venue_encoder = LabelEncoder()\n",
    "batting_team_encoder = LabelEncoder()\n",
    "bowling_team_encoder = LabelEncoder()\n",
    "striker_encoder = LabelEncoder()\n",
    "bowler_encoder = LabelEncoder()\n",
    "\n",
    "# Fit and transform the categorical features with label encoding\n",
    "X['venue'] = venue_encoder.fit_transform(X['venue'])\n",
    "X['bat_team'] = batting_team_encoder.fit_transform(X['bat_team'])\n",
    "X['bowl_team'] = bowling_team_encoder.fit_transform(X['bowl_team'])\n",
    "X['batsman'] = striker_encoder.fit_transform(X['batsman'])\n",
    "X['bowler'] = bowler_encoder.fit_transform(X['bowler'])\n"
   ]
  },
  {
   "cell_type": "markdown",
   "metadata": {},
   "source": [
    "Train Test Split"
   ]
  },
  {
   "cell_type": "code",
   "execution_count": 7,
   "metadata": {},
   "outputs": [],
   "source": [
    "from sklearn.model_selection import train_test_split\n",
    "X_train, X_test, y_train, y_test = train_test_split(X, y, test_size=0.3, random_state=42)"
   ]
  },
  {
   "cell_type": "markdown",
   "metadata": {},
   "source": [
    "Feature Scaling"
   ]
  },
  {
   "cell_type": "code",
   "execution_count": 8,
   "metadata": {},
   "outputs": [],
   "source": [
    "from sklearn.preprocessing import MinMaxScaler\n",
    "\n",
    "scaler = MinMaxScaler()\n",
    "\n",
    "X_train_scaled = scaler.fit_transform(X_train)\n",
    "X_test_scaled = scaler.transform(X_test)"
   ]
  },
  {
   "cell_type": "markdown",
   "metadata": {},
   "source": [
    "Define Neural Network"
   ]
  },
  {
   "cell_type": "code",
   "execution_count": 9,
   "metadata": {},
   "outputs": [
    {
     "name": "stdout",
     "output_type": "stream",
     "text": [
      "WARNING:tensorflow:From c:\\Users\\LENOVO\\AppData\\Local\\Programs\\Python\\Python311\\Lib\\site-packages\\keras\\src\\backend.py:1398: The name tf.executing_eagerly_outside_functions is deprecated. Please use tf.compat.v1.executing_eagerly_outside_functions instead.\n",
      "\n",
      "WARNING:tensorflow:From c:\\Users\\LENOVO\\AppData\\Local\\Programs\\Python\\Python311\\Lib\\site-packages\\keras\\src\\optimizers\\__init__.py:309: The name tf.train.Optimizer is deprecated. Please use tf.compat.v1.train.Optimizer instead.\n",
      "\n"
     ]
    }
   ],
   "source": [
    "model = keras.Sequential([\n",
    "\tkeras.layers.Input( shape=(X_train_scaled.shape[1],)),\n",
    "\tkeras.layers.Dense(512, activation='relu'), \n",
    "\tkeras.layers.Dense(216, activation='relu'), \n",
    "\tkeras.layers.Dense(1, activation='linear') \n",
    "])\n",
    "\n",
    "\n",
    "huber_loss = tf.keras.losses.Huber(delta=1.0) \n",
    "model.compile(optimizer='adam', loss=huber_loss) "
   ]
  },
  {
   "cell_type": "markdown",
   "metadata": {},
   "source": [
    "Model Training"
   ]
  },
  {
   "cell_type": "code",
   "execution_count": 10,
   "metadata": {},
   "outputs": [
    {
     "name": "stdout",
     "output_type": "stream",
     "text": [
      "Epoch 1/50\n",
      "WARNING:tensorflow:From c:\\Users\\LENOVO\\AppData\\Local\\Programs\\Python\\Python311\\Lib\\site-packages\\keras\\src\\utils\\tf_utils.py:492: The name tf.ragged.RaggedTensorValue is deprecated. Please use tf.compat.v1.ragged.RaggedTensorValue instead.\n",
      "\n",
      "832/832 [==============================] - 4s 4ms/step - loss: 32.5557 - val_loss: 22.0766\n",
      "Epoch 2/50\n",
      "832/832 [==============================] - 3s 4ms/step - loss: 22.3796 - val_loss: 22.1055\n",
      "Epoch 3/50\n",
      "832/832 [==============================] - 4s 4ms/step - loss: 22.3227 - val_loss: 22.3160\n",
      "Epoch 4/50\n",
      "832/832 [==============================] - 3s 4ms/step - loss: 22.2265 - val_loss: 22.2254\n",
      "Epoch 5/50\n",
      "832/832 [==============================] - 2s 3ms/step - loss: 22.1751 - val_loss: 21.8964\n",
      "Epoch 6/50\n",
      "832/832 [==============================] - 3s 4ms/step - loss: 22.1446 - val_loss: 21.8972\n",
      "Epoch 7/50\n",
      "832/832 [==============================] - 2s 3ms/step - loss: 22.1380 - val_loss: 21.8426\n",
      "Epoch 8/50\n",
      "832/832 [==============================] - 2s 3ms/step - loss: 22.0917 - val_loss: 21.8387\n",
      "Epoch 9/50\n",
      "832/832 [==============================] - 2s 3ms/step - loss: 22.1351 - val_loss: 21.7923\n",
      "Epoch 10/50\n",
      "832/832 [==============================] - 2s 3ms/step - loss: 22.1249 - val_loss: 21.9041\n",
      "Epoch 11/50\n",
      "832/832 [==============================] - 3s 4ms/step - loss: 22.0861 - val_loss: 21.7934\n",
      "Epoch 12/50\n",
      "832/832 [==============================] - 3s 3ms/step - loss: 22.0500 - val_loss: 21.8427\n",
      "Epoch 13/50\n",
      "832/832 [==============================] - 3s 4ms/step - loss: 22.0652 - val_loss: 21.9938\n",
      "Epoch 14/50\n",
      "832/832 [==============================] - 3s 3ms/step - loss: 22.0593 - val_loss: 21.7243\n",
      "Epoch 15/50\n",
      "832/832 [==============================] - 3s 3ms/step - loss: 22.0282 - val_loss: 21.7494\n",
      "Epoch 16/50\n",
      "832/832 [==============================] - 3s 4ms/step - loss: 22.0673 - val_loss: 21.7355\n",
      "Epoch 17/50\n",
      "832/832 [==============================] - 3s 4ms/step - loss: 22.0247 - val_loss: 21.7242\n",
      "Epoch 18/50\n",
      "832/832 [==============================] - 3s 3ms/step - loss: 21.9947 - val_loss: 21.9702\n",
      "Epoch 19/50\n",
      "832/832 [==============================] - 3s 4ms/step - loss: 21.9753 - val_loss: 21.6550\n",
      "Epoch 20/50\n",
      "832/832 [==============================] - 4s 4ms/step - loss: 21.9771 - val_loss: 21.6424\n",
      "Epoch 21/50\n",
      "832/832 [==============================] - 7s 8ms/step - loss: 21.9160 - val_loss: 21.7697\n",
      "Epoch 22/50\n",
      "832/832 [==============================] - 6s 8ms/step - loss: 21.8786 - val_loss: 21.6684\n",
      "Epoch 23/50\n",
      "832/832 [==============================] - 6s 8ms/step - loss: 21.7667 - val_loss: 21.4253\n",
      "Epoch 24/50\n",
      "832/832 [==============================] - 6s 7ms/step - loss: 21.6820 - val_loss: 21.3578\n",
      "Epoch 25/50\n",
      "832/832 [==============================] - 6s 7ms/step - loss: 21.6156 - val_loss: 21.2950\n",
      "Epoch 26/50\n",
      "832/832 [==============================] - 7s 8ms/step - loss: 21.5667 - val_loss: 21.4917\n",
      "Epoch 27/50\n",
      "832/832 [==============================] - 6s 8ms/step - loss: 21.5123 - val_loss: 21.1920\n",
      "Epoch 28/50\n",
      "832/832 [==============================] - 6s 8ms/step - loss: 21.4887 - val_loss: 21.2720\n",
      "Epoch 29/50\n",
      "832/832 [==============================] - 6s 8ms/step - loss: 21.4141 - val_loss: 21.1355\n",
      "Epoch 30/50\n",
      "832/832 [==============================] - 6s 8ms/step - loss: 21.4022 - val_loss: 21.3971\n",
      "Epoch 31/50\n",
      "832/832 [==============================] - 7s 8ms/step - loss: 21.3052 - val_loss: 21.6869\n",
      "Epoch 32/50\n",
      "832/832 [==============================] - 7s 8ms/step - loss: 21.3103 - val_loss: 21.0116\n",
      "Epoch 33/50\n",
      "832/832 [==============================] - 7s 8ms/step - loss: 21.2470 - val_loss: 20.9065\n",
      "Epoch 34/50\n",
      "832/832 [==============================] - 7s 8ms/step - loss: 21.1515 - val_loss: 20.8941\n",
      "Epoch 35/50\n",
      "832/832 [==============================] - 7s 8ms/step - loss: 21.0732 - val_loss: 21.0060\n",
      "Epoch 36/50\n",
      "832/832 [==============================] - 7s 8ms/step - loss: 21.0239 - val_loss: 20.7528\n",
      "Epoch 37/50\n",
      "832/832 [==============================] - 7s 8ms/step - loss: 20.9146 - val_loss: 20.6099\n",
      "Epoch 38/50\n",
      "832/832 [==============================] - 7s 8ms/step - loss: 20.7859 - val_loss: 20.5592\n",
      "Epoch 39/50\n",
      "832/832 [==============================] - 7s 8ms/step - loss: 20.7348 - val_loss: 20.5175\n",
      "Epoch 40/50\n",
      "832/832 [==============================] - 7s 8ms/step - loss: 20.5893 - val_loss: 20.4785\n",
      "Epoch 41/50\n",
      "832/832 [==============================] - 7s 8ms/step - loss: 20.5144 - val_loss: 20.1826\n",
      "Epoch 42/50\n",
      "832/832 [==============================] - 7s 8ms/step - loss: 20.3593 - val_loss: 20.2029\n",
      "Epoch 43/50\n",
      "832/832 [==============================] - 7s 8ms/step - loss: 20.2104 - val_loss: 21.0071\n",
      "Epoch 44/50\n",
      "832/832 [==============================] - 7s 8ms/step - loss: 20.0387 - val_loss: 19.8822\n",
      "Epoch 45/50\n",
      "832/832 [==============================] - 7s 8ms/step - loss: 19.9328 - val_loss: 19.6132\n",
      "Epoch 46/50\n",
      "832/832 [==============================] - 7s 8ms/step - loss: 19.7559 - val_loss: 19.5845\n",
      "Epoch 47/50\n",
      "832/832 [==============================] - 7s 8ms/step - loss: 19.6157 - val_loss: 19.4679\n",
      "Epoch 48/50\n",
      "832/832 [==============================] - 7s 8ms/step - loss: 19.4779 - val_loss: 19.4755\n",
      "Epoch 49/50\n",
      "832/832 [==============================] - 7s 8ms/step - loss: 19.4394 - val_loss: 19.4329\n",
      "Epoch 50/50\n",
      "832/832 [==============================] - 7s 8ms/step - loss: 19.2603 - val_loss: 18.9441\n"
     ]
    },
    {
     "data": {
      "text/plain": [
       "<keras.src.callbacks.History at 0x2ce6c092e10>"
      ]
     },
     "execution_count": 10,
     "metadata": {},
     "output_type": "execute_result"
    }
   ],
   "source": [
    "model.fit(X_train_scaled, y_train, epochs=50, batch_size=64, validation_data=(X_test_scaled, y_test))"
   ]
  },
  {
   "cell_type": "code",
   "execution_count": 12,
   "metadata": {},
   "outputs": [
    {
     "data": {
      "text/plain": [
       "<Axes: >"
      ]
     },
     "execution_count": 12,
     "metadata": {},
     "output_type": "execute_result"
    },
    {
     "data": {
      "image/png": "[encoded data removed]",
      "text/plain": [
       "<Figure size 640x480 with 1 Axes>"
      ]
     },
     "metadata": {},
     "output_type": "display_data"
    }
   ],
   "source": [
    "model_losses = pd.DataFrame(model.history.history)\n",
    "model_losses.plot()"
   ]
  },
  {
   "cell_type": "markdown",
   "metadata": {},
   "source": [
    "Model Evaluation"
   ]
  },
  {
   "cell_type": "code",
   "execution_count": 13,
   "metadata": {},
   "outputs": [
    {
     "name": "stdout",
     "output_type": "stream",
     "text": [
      "713/713 [==============================] - 1s 1ms/step\n"
     ]
    },
    {
     "data": {
      "text/plain": [
       "19.432705303410433"
      ]
     },
     "execution_count": 13,
     "metadata": {},
     "output_type": "execute_result"
    }
   ],
   "source": [
    "predictions = model.predict(X_test_scaled)\n",
    "\n",
    "from sklearn.metrics import mean_absolute_error,mean_squared_error\n",
    "mean_absolute_error(y_test,predictions)\n"
   ]
  },
  {
   "cell_type": "markdown",
   "metadata": {},
   "source": [
    "Creating Widget"
   ]
  },
  {
   "cell_type": "code",
   "execution_count": 14,
   "metadata": {},
   "outputs": [],
   "source": [
    "import ipywidgets as widgets\n",
    "from IPython.display import display, clear_output\n",
    "\n",
    "import warnings\n",
    "warnings.filterwarnings(\"ignore\")\n",
    "\n",
    "venue = widgets.Dropdown(options=df['venue'].unique().tolist(),description='Select Venue:')\n",
    "batting_team = widgets.Dropdown(options =df['bat_team'].unique().tolist(), description='Select Batting Team:')\n",
    "bowling_team = widgets.Dropdown(options=df['bowl_team'].unique().tolist(), description='Select Bowling Team:')\n",
    "striker = widgets.Dropdown(options=df['batsman'].unique().tolist(), description='Select Striker:')\n",
    "bowler = widgets.Dropdown(options=df['bowler'].unique().tolist(), description='Select Bowler:')\n",
    "\n",
    "predict_button = widgets.Button(description=\"Predict Score\")\n",
    "\n",
    "def predict_score(b):\n",
    "\twith output:\n",
    "\t\tclear_output() \n",
    "\t\t\n",
    "\n",
    "\t\t\n",
    "\t\tdecoded_venue = venue_encoder.transform([venue.value])\n",
    "\t\tdecoded_batting_team = batting_team_encoder.transform([batting_team.value])\n",
    "\t\tdecoded_bowling_team = bowling_team_encoder.transform([bowling_team.value])\n",
    "\t\tdecoded_striker = striker_encoder.transform([striker.value])\n",
    "\t\tdecoded_bowler = bowler_encoder.transform([bowler.value])\n",
    "\n",
    "\n",
    "\t\tinput = np.array([decoded_venue, decoded_batting_team, decoded_bowling_team,decoded_striker, decoded_bowler])\n",
    "\t\tinput = input.reshape(1,5)\n",
    "\t\tinput = scaler.transform(input)\n",
    "\t\t\n",
    "\t\tpredicted_score = model.predict(input)\n",
    "\t\tpredicted_score = int(predicted_score[0,0])\n",
    "\n",
    "\t\tprint(predicted_score)\n"
   ]
  },
  {
   "cell_type": "code",
   "execution_count": 24,
   "metadata": {},
   "outputs": [
    {
     "data": {
      "application/vnd.jupyter.widget-view+json": {
       "model_id": "6454be10363340f89a19e9239d504b63",
       "version_major": 2,
       "version_minor": 0
      },
      "text/plain": [
       "Dropdown(description='Select Venue:', options=('M Chinnaswamy Stadium', 'Punjab Cricket Association Stadium, M…"
      ]
     },
     "metadata": {},
     "output_type": "display_data"
    },
    {
     "data": {
      "application/vnd.jupyter.widget-view+json": {
       "model_id": "7e5a13a470554555a6c85f183001cfb7",
       "version_major": 2,
       "version_minor": 0
      },
      "text/plain": [
       "Dropdown(description='Select Batting Team:', options=('Kolkata Knight Riders', 'Chennai Super Kings', 'Rajasth…"
      ]
     },
     "metadata": {},
     "output_type": "display_data"
    },
    {
     "data": {
      "application/vnd.jupyter.widget-view+json": {
       "model_id": "248d6718bd2f444d85438b2b0496b18a",
       "version_major": 2,
       "version_minor": 0
      },
      "text/plain": [
       "Dropdown(description='Select Bowling Team:', options=('Royal Challengers Bangalore', 'Kings XI Punjab', 'Delhi…"
      ]
     },
     "metadata": {},
     "output_type": "display_data"
    },
    {
     "data": {
      "application/vnd.jupyter.widget-view+json": {
       "model_id": "d9e1df227545469bbd83dbc7689439de",
       "version_major": 2,
       "version_minor": 0
      },
      "text/plain": [
       "Dropdown(description='Select Striker:', options=('SC Ganguly', 'BB McCullum', 'RT Ponting', 'DJ Hussey', 'Moha…"
      ]
     },
     "metadata": {},
     "output_type": "display_data"
    },
    {
     "data": {
      "application/vnd.jupyter.widget-view+json": {
       "model_id": "f4422de518b24f799899af4e10bb2cb3",
       "version_major": 2,
       "version_minor": 0
      },
      "text/plain": [
       "Dropdown(description='Select Bowler:', options=('P Kumar', 'Z Khan', 'AA Noffke', 'JH Kallis', 'SB Joshi', 'CL…"
      ]
     },
     "metadata": {},
     "output_type": "display_data"
    },
    {
     "data": {
      "application/vnd.jupyter.widget-view+json": {
       "model_id": "3e20893a342b48d58380b1935acb7f12",
       "version_major": 2,
       "version_minor": 0
      },
      "text/plain": [
       "Button(description='Predict Score', style=ButtonStyle())"
      ]
     },
     "metadata": {},
     "output_type": "display_data"
    },
    {
     "data": {
      "application/vnd.jupyter.widget-view+json": {
       "model_id": "282c79c959fb4e149efc730192b45dcf",
       "version_major": 2,
       "version_minor": 0
      },
      "text/plain": [
       "Output()"
      ]
     },
     "metadata": {},
     "output_type": "display_data"
    }
   ],
   "source": [
    "predict_button.on_click(predict_score)\n",
    "output = widgets.Output()\n",
    "display(venue, batting_team, bowling_team, striker, bowler, predict_button, output)"
   ]
  }
 ],
 "metadata": {
  "kernelspec": {
   "display_name": "Python 3",
   "language": "python",
   "name": "python3"
  },
  "language_info": {
   "codemirror_mode": {
    "name": "ipython",
    "version": 3
   },
   "file_extension": ".py",
   "mimetype": "text/x-python",
   "name": "python",
   "nbconvert_exporter": "python",
   "pygments_lexer": "ipython3",
   "version": "3.11.6"
  }
 },
 "nbformat": 4,
 "nbformat_minor": 2
}
